{
  "nbformat": 4,
  "nbformat_minor": 0,
  "metadata": {
    "colab": {
      "provenance": []
    },
    "kernelspec": {
      "name": "python3",
      "display_name": "Python 3"
    },
    "language_info": {
      "name": "python"
    }
  },
  "cells": [
    {
      "cell_type": "code",
      "execution_count": null,
      "metadata": {
        "id": "sRbAz9Dmc2Pk"
      },
      "outputs": [],
      "source": [
        "from sklearn.ensemble import RandomForestRegressor\n",
        "from sklearn.metrics import r2_score\n",
        "\n",
        "data = pd.read_csv('summary_portfolios_train.csv')\n",
        "data_test = pd.read_csv('summary_portfolios_test.csv')\n",
        "portfolio_id_df = data_test[['ID']].copy()\n",
        "portfolio_id_df['ID'] = 'portfolio_' + data_test['ID'].astype(str)\n",
        "data=data.drop('la_std', axis=1)\n",
        "X_train = data.drop('la_mean', axis=1)\n",
        "y_train = data['la_mean']\n",
        "\n",
        "regressor=RandomForestRegressor(n_estimators=10,random_state=0)\n",
        "regressor.fit(X_train, y_train)\n",
        "y_pred = regressor.predict(data_test)\n",
        "\n",
        "LR_test=y_pred/data_test['ap_mean']\n",
        "ln_LR_test=np.log(LR_test)\n",
        "ln_LR_test_df=ln_LR_test.to_frame(name='ln_LR')\n",
        "output_df = portfolio_id_df.join(ln_LR_test_df, how='outer')\n",
        "output_df.to_csv('output.csv', index=False)\n",
        "#r2_score(y_test,y_pred)\n"
      ]
    }
  ]
}