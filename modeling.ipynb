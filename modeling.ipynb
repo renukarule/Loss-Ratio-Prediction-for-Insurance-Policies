{
 "cells": [
  {
   "cell_type": "code",
   "execution_count": null,
   "metadata": {},
   "outputs": [],
   "source": [
    "# Import necessary libraries\n",
    "import pandas as pd\n",
    "from sklearn.tree import DecisionTreeRegressor\n",
    "from sklearn.model_selection import train_test_split\n",
    "from sklearn.metrics import mean_squared_error\n",
    "\n",
    "# Load the data\n",
    "data = pd.read_csv('insurance_portfolio_data.csv')\n",
    "\n",
    "# Split the data into features and target variable\n",
    "X = data.drop('Loss_Ratio', axis=1)\n",
    "y = data['Loss_ratio']\n",
    "\n",
    "# Split the data into training and testing sets\n",
    "X_train, X_test, y_train, y_test = train_test_split(X, y, test_size=0.2, random_state=42)\n",
    "\n",
    "# Create a decision tree regressor object\n",
    "regressor = DecisionTreeRegressor(max_depth=5)\n",
    "\n",
    "# Fit the model to the training data\n",
    "regressor.fit(X_train, y_train)\n",
    "\n",
    "# Predict the loss ratios for the test data\n",
    "y_pred = regressor.predict(X_test)\n",
    "\n",
    "# Calculate the root mean squared error\n",
    "rmse = mean_squared_error(y_test, y_pred, squared=False)\n",
    "print('RMSE:', rmse)"
   ]
  },
  {
   "cell_type": "code",
   "execution_count": null,
   "metadata": {},
   "outputs": [],
   "source": [
    "# Import necessary libraries\n",
    "import pandas as pd\n",
    "from sklearn.linear_model import LinearRegression\n",
    "from sklearn.model_selection import train_test_split\n",
    "from sklearn.metrics import mean_squared_error\n",
    "\n",
    "# Load the data\n",
    "data = pd.read_csv('insurance_portfolio_data.csv')\n",
    "\n",
    "# Split the data into features and target variable\n",
    "X = data.drop('Loss_Ratio', axis=1)\n",
    "y = data['Loss_Ratio']\n",
    "\n",
    "# Split the data into training and testing sets\n",
    "X_train, X_test, y_train, y_test = train_test_split(X, y, test_size=0.2, random_state=42)\n",
    "\n",
    "# Create a linear regression object\n",
    "regressor = LinearRegression()\n",
    "\n",
    "# Fit the model to the training data\n",
    "regressor.fit(X_train, y_train)\n",
    "\n",
    "# Predict the loss ratios for the test data\n",
    "y_pred = regressor.predict(X_test)\n",
    "\n",
    "# Calculate the root mean squared error\n",
    "rmse = mean_squared_error(y_test, y_pred, squared=False)\n",
    "print('RMSE:', rmse)"
   ]
  }
 ],
 "metadata": {
  "kernelspec": {
   "display_name": "Python 3",
   "language": "python",
   "name": "python3"
  },
  "language_info": {
   "codemirror_mode": {
    "name": "ipython",
    "version": 3
   },
   "file_extension": ".py",
   "mimetype": "text/x-python",
   "name": "python",
   "nbconvert_exporter": "python",
   "pygments_lexer": "ipython3",
   "version": "3.8.5"
  }
 },
 "nbformat": 4,
 "nbformat_minor": 4
}
