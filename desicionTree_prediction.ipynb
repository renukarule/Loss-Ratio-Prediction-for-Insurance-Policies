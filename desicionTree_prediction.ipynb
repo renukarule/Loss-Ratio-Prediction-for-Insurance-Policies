{
 "cells": [
  {
   "cell_type": "code",
   "execution_count": 51,
   "id": "f0cb9c8f",
   "metadata": {},
   "outputs": [],
   "source": [
    "# Import necessary libraries\n",
    "import pandas as pd\n",
    "from sklearn.tree import DecisionTreeRegressor\n",
    "from sklearn.model_selection import train_test_split\n",
    "from sklearn.metrics import mean_squared_error\n",
    "import numpy as np\n",
    "\n",
    "# Load the data\n",
    "data = pd.read_csv('summary_portfolios_train.csv')\n",
    "data_test = pd.read_csv('summary_portfolios_test.csv')\n",
    "portfolio_id_df = data_test[['ID']].copy()\n",
    "portfolio_id_df['ID'] = 'portfolio_' + data_test['ID'].astype(str)\n",
    "# Split the data into features and target variable\n",
    "data=data.drop('la_std', axis=1)\n",
    "X_train = data.drop('la_mean', axis=1)\n",
    "y_train = data['la_mean']\n",
    "# print(X_train.head())\n",
    "# print(data_test.head())\n",
    "# Split the data into training and testing sets\n",
    "# X_train, X_test, y_train, y_test = train_test_split(X, y, test_size=0.2, random_state=42)\n",
    "\n",
    "# Create a decision tree regressor object\n",
    "regressor = DecisionTreeRegressor(max_depth=5)\n",
    "\n",
    "# Fit the model to the training data\n",
    "regressor.fit(X_train, y_train)\n",
    "\n",
    "# Predict the loss ratios for the test data\n",
    "y_pred = regressor.predict(data_test)\n",
    "LR_test=y_pred/data_test['ap_mean']\n",
    "ln_LR_test=np.log(LR_test)\n",
    "ln_LR_test_df=ln_LR_test.to_frame(name='ln_LR')\n",
    "output_df = portfolio_id_df.join(ln_LR_test_df, how='outer')\n",
    "output_df.to_csv('output.csv', index=False)\n",
    "\n",
    "# Calculate the root mean squared error\n",
    "# rmse = mean_squared_error(y_train, y_pred, squared=False)\n",
    "# print('RMSE:', rmse)"
   ]
  },
  {
   "cell_type": "code",
   "execution_count": null,
   "id": "b18837e3",
   "metadata": {},
   "outputs": [],
   "source": []
  },
  {
   "cell_type": "code",
   "execution_count": null,
   "id": "cf480e17",
   "metadata": {},
   "outputs": [],
   "source": []
  }
 ],
 "metadata": {
  "kernelspec": {
   "display_name": "Python 3 (ipykernel)",
   "language": "python",
   "name": "python3"
  },
  "language_info": {
   "codemirror_mode": {
    "name": "ipython",
    "version": 3
   },
   "file_extension": ".py",
   "mimetype": "text/x-python",
   "name": "python",
   "nbconvert_exporter": "python",
   "pygments_lexer": "ipython3",
   "version": "3.9.13"
  }
 },
 "nbformat": 4,
 "nbformat_minor": 5
}
